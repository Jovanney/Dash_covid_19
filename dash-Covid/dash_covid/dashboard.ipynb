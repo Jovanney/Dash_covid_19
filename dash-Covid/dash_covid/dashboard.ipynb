{
 "cells": [
  {
   "cell_type": "code",
   "execution_count": 4,
   "metadata": {},
   "outputs": [],
   "source": [
    "import dash \n",
    "import dash_core_components as dcc\n",
    "from dash import html\n",
    "from dash.dependencies import Input, Output\n",
    "import dash_bootstrap_components as dbc\n",
    "\n",
    "import plotly.express as px\n",
    "import plotly.graph_objects as go\n",
    "\n",
    "import numpy as np\n",
    "import pandas as pd\n",
    "\n",
    "import json"
   ]
  },
  {
   "cell_type": "code",
   "execution_count": 21,
   "metadata": {},
   "outputs": [],
   "source": [
    "#Reading dataframe\n",
    "\n",
    "\"\"\"\n",
    "df = pd.read_csv(\"HIST_PAINEL_COVIDBR_13mai2021.csv\", sep=\";\")\n",
    "df_states = df[(~df[\"estado\"].isna()) & (df[\"codmun\"].isna())] #o tio serve para pegar quando não for NaN e coloca NaN\n",
    "df_brasil = df[df[\"regiao\"] == \"Brasil\"]\n",
    "df_states.to_csv('df_brasil.csv')\n",
    "df_brasil.to_csv('df_brasil.csv')\n",
    "\"\"\"\n",
    "\n",
    "df_states = pd.read_csv(\"df_states.csv\")\n",
    "df_brasil = pd.read_csv(\"df_brasil.csv\")\n",
    "\n",
    "df_states_ = df_states[df_states[\"data\"] == \"2020-05-13\"]\n",
    "\n",
    "brazil_states = json.load(open(\"geojson/brazil_geo.json\", \"r\"))\n"
   ]
  },
  {
   "cell_type": "code",
   "execution_count": 20,
   "metadata": {},
   "outputs": [],
   "source": [
    "app = dash.Dash(__name__, external_stylesheets=[dbc.themes.CYBORG])\n",
    "\n",
    "fig = px.choropleth_mapbox(df_states_, locations=\"estado\",\n",
    "    geojson=brazil_states, center={\"lat\": -16.95, \"lon\": -47.78},\n",
    "    zoom=4, color=\"casosNovos\", color_continuous_scale=\"Redor\", opacity=0.4,\n",
    "    hover_data={\"casosAcumulado\": True, \"casosNovos\": True, \"obitosNovos\": True, \"estado\": True}\n",
    "    )"
   ]
  }
 ],
 "metadata": {
  "kernelspec": {
   "display_name": "dash-covid-gWXfE4kJ-py3.10",
   "language": "python",
   "name": "python3"
  },
  "language_info": {
   "codemirror_mode": {
    "name": "ipython",
    "version": 3
   },
   "file_extension": ".py",
   "mimetype": "text/x-python",
   "name": "python",
   "nbconvert_exporter": "python",
   "pygments_lexer": "ipython3",
   "version": "3.10.7"
  },
  "orig_nbformat": 4
 },
 "nbformat": 4,
 "nbformat_minor": 2
}
